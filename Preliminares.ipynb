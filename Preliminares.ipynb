{
  "nbformat": 4,
  "nbformat_minor": 0,
  "metadata": {
    "colab": {
      "provenance": [],
      "toc_visible": true,
      "include_colab_link": true
    },
    "kernelspec": {
      "name": "python3",
      "display_name": "Python 3"
    },
    "language_info": {
      "name": "python"
    }
  },
  "cells": [
    {
      "cell_type": "markdown",
      "metadata": {
        "id": "view-in-github",
        "colab_type": "text"
      },
      "source": [
        "<a href=\"https://colab.research.google.com/github/renerivas/PowerBI-DataScience/blob/master/Preliminares.ipynb\" target=\"_parent\"><img src=\"https://colab.research.google.com/assets/colab-badge.svg\" alt=\"Open In Colab\"/></a>"
      ]
    },
    {
      "cell_type": "markdown",
      "source": [
        "# 1. Preliminares"
      ],
      "metadata": {
        "id": "uLo-zI7MPxU8"
      }
    },
    {
      "cell_type": "markdown",
      "source": [
        "## 1.1 Datos simples\n",
        "Son las estructuras básicas de Python"
      ],
      "metadata": {
        "id": "aOozqxomOmTX"
      }
    },
    {
      "cell_type": "code",
      "execution_count": null,
      "metadata": {
        "id": "tVMqRlL5LOuS"
      },
      "outputs": [],
      "source": [
        "4 # Entero\n",
        "type(4)"
      ]
    },
    {
      "cell_type": "code",
      "source": [
        "4.33 # Real\n",
        "type(4.33)"
      ],
      "metadata": {
        "id": "lPeQqbI2O8y9"
      },
      "execution_count": null,
      "outputs": []
    },
    {
      "cell_type": "code",
      "source": [
        "4 + 3j # Complejo\n",
        "type(4 + 3j)"
      ],
      "metadata": {
        "id": "zuG_LGuYPET_"
      },
      "execution_count": null,
      "outputs": []
    },
    {
      "cell_type": "code",
      "source": [
        "'a' # Caracter\n",
        "type('a')"
      ],
      "metadata": {
        "id": "GSSbuA7WPLdB"
      },
      "execution_count": null,
      "outputs": []
    },
    {
      "cell_type": "code",
      "source": [
        "False # Booleano\n",
        "type(True)"
      ],
      "metadata": {
        "id": "BUpEVPpaO1bn"
      },
      "execution_count": null,
      "outputs": []
    },
    {
      "cell_type": "markdown",
      "source": [
        "## 1.2 Operadores aritmeticos"
      ],
      "metadata": {
        "id": "ptAiD5A5P4tA"
      }
    },
    {
      "cell_type": "code",
      "source": [
        "3 + 5 - 2*2 + 4/2 # Suma, Resta, Multiplicación y División (Operaciones básicas)"
      ],
      "metadata": {
        "id": "4dDjFsW9QH7l"
      },
      "execution_count": null,
      "outputs": []
    },
    {
      "cell_type": "code",
      "source": [
        "13//5 # División parte entera (13/5 es igual a 2.6)"
      ],
      "metadata": {
        "id": "3G_T29jFQZNH"
      },
      "execution_count": null,
      "outputs": []
    },
    {
      "cell_type": "code",
      "source": [
        "13 % 5 # Al dividir 13 entre 5, el residuo es 3, al residuo se le conoce como modulo"
      ],
      "metadata": {
        "id": "9Kdf04kpQq3L"
      },
      "execution_count": null,
      "outputs": []
    },
    {
      "cell_type": "code",
      "source": [
        "4**2 # Potencia, en este caso equivale a 4^2 (cuatro al cuadrado)"
      ],
      "metadata": {
        "id": "JGF3onfQQ2fP"
      },
      "execution_count": null,
      "outputs": []
    },
    {
      "cell_type": "code",
      "source": [
        "'Este' + ' ' + 'es' + ' ' + 'ejemplo' # Uso del simbolo + para concatenación\n"
      ],
      "metadata": {
        "id": "zr15pY054Miz"
      },
      "execution_count": null,
      "outputs": []
    },
    {
      "cell_type": "markdown",
      "source": [
        "## 1.3 Operadores de comparación"
      ],
      "metadata": {
        "id": "PV5qs7t-RR0U"
      }
    },
    {
      "cell_type": "code",
      "source": [
        "4 == 5 # 4 es igual a 5, esto es Falso"
      ],
      "metadata": {
        "id": "TCgT21dERXAi"
      },
      "execution_count": null,
      "outputs": []
    },
    {
      "cell_type": "code",
      "source": [
        "4 != 5 # 4 es diferente de 5, esto es Verdadero"
      ],
      "metadata": {
        "id": "jbhP0YnVRd7w"
      },
      "execution_count": null,
      "outputs": []
    },
    {
      "cell_type": "code",
      "source": [
        "4 < 5 # 4 es menor que 5, esto es Verdadero"
      ],
      "metadata": {
        "id": "MVlzmzOpRk3-"
      },
      "execution_count": null,
      "outputs": []
    },
    {
      "cell_type": "code",
      "source": [
        "4 > 5 # 4 es mayor que 5, esto es Falso"
      ],
      "metadata": {
        "id": "FQGbSgc0Rq-r"
      },
      "execution_count": null,
      "outputs": []
    },
    {
      "cell_type": "code",
      "source": [
        "4 <= 5 # 4 es menor o igual que 5, esto es Verdadero"
      ],
      "metadata": {
        "id": "DLfSOr2FRzS4"
      },
      "execution_count": null,
      "outputs": []
    },
    {
      "cell_type": "code",
      "source": [
        "4 >= 5 # 4 es mayor o igual que 5, esto es Falso"
      ],
      "metadata": {
        "id": "S-XeFukFR7Uq"
      },
      "execution_count": null,
      "outputs": []
    },
    {
      "cell_type": "markdown",
      "source": [
        "## 1.4 Operadores booleanos"
      ],
      "metadata": {
        "id": "VUqjJ9S5UbRu"
      }
    },
    {
      "cell_type": "code",
      "source": [
        "# Comparar si dos más cinco es mayor a nueve y si cuatro al cuadrado es menor que veinte.\n",
        "( 2 + 5 > 9 ) and ( 4**2 < 20)"
      ],
      "metadata": {
        "id": "ntAphsTBUZ8h"
      },
      "execution_count": null,
      "outputs": []
    },
    {
      "cell_type": "markdown",
      "source": [
        "**Ejercicios**\n",
        "\n",
        "1.   Determinar si cuatro al cuadrado es mayor que nueve o cuatro al cuadrado es menor que cien entre cuatro.\n",
        "2.   Determinar si la división parte entera de cinco entre dos es mayor que el modulo de la división de cinco entre dos y si cuatro al cuadrado es igual de la raiz cuadrada de 256.\n",
        "3. La negación de que ocho por cuatro es igual es treinta y dos.\n",
        "4. La negación de que la palabra 'Ocho' no es igual a la palabra 'ocho'"
      ],
      "metadata": {
        "id": "dyJJSJyLVPYR"
      }
    },
    {
      "cell_type": "code",
      "source": [
        "# Ejercicio 1"
      ],
      "metadata": {
        "id": "cM1iT_cAU6UV"
      },
      "execution_count": null,
      "outputs": []
    },
    {
      "cell_type": "code",
      "source": [
        "# Ejercicio 2"
      ],
      "metadata": {
        "id": "4j4re8acWBZ5"
      },
      "execution_count": null,
      "outputs": []
    },
    {
      "cell_type": "code",
      "source": [
        "# Ejercicio 3"
      ],
      "metadata": {
        "id": "asPaZe8D3R3j"
      },
      "execution_count": null,
      "outputs": []
    },
    {
      "cell_type": "code",
      "source": [
        "# Ejercicio 4"
      ],
      "metadata": {
        "id": "T4M-t7A04jFW"
      },
      "execution_count": null,
      "outputs": []
    },
    {
      "cell_type": "markdown",
      "source": [
        "## 1.5 Variables"
      ],
      "metadata": {
        "id": "yr9v20un64ab"
      }
    },
    {
      "cell_type": "code",
      "source": [
        "variable = 3"
      ],
      "metadata": {
        "id": "Qs-izagq6opN"
      },
      "execution_count": null,
      "outputs": []
    },
    {
      "cell_type": "code",
      "source": [
        "_nombre = 'Mi nombre'"
      ],
      "metadata": {
        "id": "NnrirnRW7MfB"
      },
      "execution_count": null,
      "outputs": []
    },
    {
      "cell_type": "code",
      "source": [
        "def = 3.1416  # Esto da error"
      ],
      "metadata": {
        "id": "9YHoGz2h7PGq"
      },
      "execution_count": null,
      "outputs": []
    },
    {
      "cell_type": "code",
      "source": [
        "4caso = 'Hola mundo' # Esto da error"
      ],
      "metadata": {
        "id": "s3bm58tv7bzp"
      },
      "execution_count": null,
      "outputs": []
    },
    {
      "cell_type": "code",
      "source": [
        "help(\"keywords\")"
      ],
      "metadata": {
        "id": "F_URqck-7_wD"
      },
      "execution_count": null,
      "outputs": []
    },
    {
      "cell_type": "markdown",
      "source": [
        "# 2. Funciones"
      ],
      "metadata": {
        "id": "xg3-sctp9qiV"
      }
    },
    {
      "cell_type": "markdown",
      "source": [
        "## 2.1 Funciones básicas"
      ],
      "metadata": {
        "id": "PzgR-1XS9tqb"
      }
    },
    {
      "cell_type": "markdown",
      "source": [
        "La función type() se utiliza para validar el tipo de dato con el que estamos trabajando"
      ],
      "metadata": {
        "id": "yEYoViza9z_Z"
      }
    },
    {
      "cell_type": "code",
      "source": [
        "x = False\n",
        "type(x)"
      ],
      "metadata": {
        "id": "3A8vTh2r9pvk"
      },
      "execution_count": null,
      "outputs": []
    },
    {
      "cell_type": "markdown",
      "source": [
        "Para convertir tipos de datos, se tienen las funciones int(), float(), str()\n",
        "\n"
      ],
      "metadata": {
        "id": "AGl-h0C6-w0n"
      }
    },
    {
      "cell_type": "code",
      "source": [
        "# Asigno a m el valor de '8'\n",
        "m = '8'\n",
        "type(m)"
      ],
      "metadata": {
        "id": "Kuk1enG_-eFG"
      },
      "execution_count": null,
      "outputs": []
    },
    {
      "cell_type": "code",
      "source": [
        "# Lo convierto a int y lo asigno en y\n",
        "y = int(m)\n",
        "type(y)"
      ],
      "metadata": {
        "id": "0uw_SafK-vXl"
      },
      "execution_count": null,
      "outputs": []
    },
    {
      "cell_type": "markdown",
      "source": [
        "La función input() se utiliza para solicitar al usuario que ingrese un valor, este valor se puede guardar en una variable.\n",
        "\n",
        "La función input() guarda los valores como string, si se quiere guardar otro tipo de dato se deben usar las funciones de conversión (int() float())"
      ],
      "metadata": {
        "id": "ET0BpMnQ_GMH"
      }
    },
    {
      "cell_type": "code",
      "source": [
        "input('Ingrese su nombre: ') # Si no se guarda en una variable, el valor solo se moestrará en consola"
      ],
      "metadata": {
        "id": "1yxVIb4g_FlL"
      },
      "execution_count": null,
      "outputs": []
    },
    {
      "cell_type": "code",
      "source": [
        "nombre = input(' Ingrese su nombre: ') # El valor queda guardado en la variable"
      ],
      "metadata": {
        "id": "9-rjwj-0_lOW"
      },
      "execution_count": null,
      "outputs": []
    },
    {
      "cell_type": "code",
      "source": [
        "edad = input('Ingrese su edad: ')"
      ],
      "metadata": {
        "id": "Fzzief20AEYx"
      },
      "execution_count": null,
      "outputs": []
    },
    {
      "cell_type": "code",
      "source": [
        "edad = int(input('Ingrese su edad: '))"
      ],
      "metadata": {
        "id": "6bELkTXpALkc"
      },
      "execution_count": null,
      "outputs": []
    },
    {
      "cell_type": "markdown",
      "source": [
        "La función print() se utiliza para mostrar valores en consola, como mensajes o los valores de las variables.\n",
        "\n",
        "Si se quieren concatenar variables, mensajes o ambos; se separan por una coma."
      ],
      "metadata": {
        "id": "LPup84JTAdg3"
      }
    },
    {
      "cell_type": "code",
      "source": [
        "print('Hola mundo')"
      ],
      "metadata": {
        "id": "qKSwktcVAcqz"
      },
      "execution_count": null,
      "outputs": []
    },
    {
      "cell_type": "code",
      "source": [
        "print(edad)"
      ],
      "metadata": {
        "id": "R4TbV5WBAts4"
      },
      "execution_count": null,
      "outputs": []
    },
    {
      "cell_type": "code",
      "source": [
        "print('Mi edad es:', edad)"
      ],
      "metadata": {
        "id": "SPl0saR8Av8v"
      },
      "execution_count": null,
      "outputs": []
    },
    {
      "cell_type": "markdown",
      "source": [
        "**Ejercicio**\n",
        "\n",
        "Escriba los comandos necesarios para solicitarle al usuario los ingresos mensuales, y luego mostrar el mensaje \"El salario anual es de : salario_anual\""
      ],
      "metadata": {
        "id": "gTOJeyTKBIXi"
      }
    },
    {
      "cell_type": "code",
      "source": [
        "# Resolución de ejercicio"
      ],
      "metadata": {
        "id": "Wa4CUTi4BcH_"
      },
      "execution_count": null,
      "outputs": []
    },
    {
      "cell_type": "markdown",
      "source": [
        "## 2.2 Funciones de modulo"
      ],
      "metadata": {
        "id": "jNFFllShE7lu"
      }
    },
    {
      "cell_type": "code",
      "source": [
        "# Vamos a importar la función \"sqrt\" del modulo \"math\"\n",
        "from math import sqrt"
      ],
      "metadata": {
        "id": "Q2NyyXvqFC_1"
      },
      "execution_count": null,
      "outputs": []
    },
    {
      "cell_type": "code",
      "source": [
        "x = float(input('Ingresar número real positivo: '))\n",
        "y = sqrt(x)\n",
        "print('La raíz cuadrada de',x, 'es', round(y, 3))"
      ],
      "metadata": {
        "id": "bM03YFrXFN1w"
      },
      "execution_count": null,
      "outputs": []
    },
    {
      "cell_type": "code",
      "source": [
        "# Importemos todo el modulo math con el seudónimo mt\n",
        "import math as mt"
      ],
      "metadata": {
        "id": "xyAbp5N1Fe5b"
      },
      "execution_count": null,
      "outputs": []
    },
    {
      "cell_type": "code",
      "source": [
        "# Accediendo a documentacion\n",
        "help('math')"
      ],
      "metadata": {
        "id": "QU9I8PDg5-JS"
      },
      "execution_count": null,
      "outputs": []
    },
    {
      "cell_type": "markdown",
      "source": [
        "**Ejercicio**\n",
        "\n",
        "Solicite al usuario un valor, y obtenga el logaritmo base 10 del valor. Muestre el resultado con un mensaje personalizado."
      ],
      "metadata": {
        "id": "rJQdvJ3aFvn-"
      }
    },
    {
      "cell_type": "code",
      "source": [
        "# Resolución de ejercicio"
      ],
      "metadata": {
        "id": "aY7q0xgJFugu"
      },
      "execution_count": null,
      "outputs": []
    },
    {
      "cell_type": "markdown",
      "source": [
        "## 2.3 Composiciones alternativas"
      ],
      "metadata": {
        "id": "UezbeIKzBmK0"
      }
    },
    {
      "cell_type": "code",
      "source": [
        "# Composición alternativa simple. Se solicitará al usuario ingresar un valor númerico, si es mayor que cero se mostrará el valor en pantalla\n",
        "x = float(input(' Ingrese un valor númerico: '))\n",
        "if x > 0:\n",
        "  print(x)"
      ],
      "metadata": {
        "id": "Y3_pmlYvCyu9"
      },
      "execution_count": null,
      "outputs": []
    },
    {
      "cell_type": "code",
      "source": [
        "# Composición alternativa compuesta. Se solicitará al usuario ingresar sus años de experiencia.\n",
        "# Si ingresa un valor entre 1 y 2 debe mostrar el mensaje 'Crédito sujeto a inspección'\n",
        "# Si ingresa un valor entre 3 y 5 debe mostrar el mensaje 'Crédito monto fijo'\n",
        "# Si ingresa un valor mayor a 5 debe mostrar el mensaje 'Crédito monto variable'\n",
        "# Si ingresa otro valor debe mostrar el mensaje 'Error'\n",
        "experiencia = int(input(' Ingrese su experiencia laboral en años: '))\n",
        "if (experiencia >= 1) and (experiencia <= 2):\n",
        "  print('Crédito sujeto a inspección')\n",
        "elif (experiencia >= 3) and (experiencia <= 5):\n",
        "  print('Crédito monto fijo')\n",
        "elif (experiencia > 5):\n",
        "  print('Crédito monto variable')\n",
        "else:\n",
        "  print('Error')"
      ],
      "metadata": {
        "id": "ZJtDA67nHGBB"
      },
      "execution_count": null,
      "outputs": []
    },
    {
      "cell_type": "markdown",
      "source": [
        "**Ejercicio**\n",
        "\n",
        "Solicitar al usuario su edad, y mostrar lo siguiente:\n",
        "*   Si ingresa un valor menor a cero mostrar error\n",
        "*   Si ingresa un valor entre 0 y 18 años mostrar el mensaje 'En edad no laboral'\n",
        "*   Si ingresa un valor entre 19 y 65 años mostrar el mensaje 'En edad laboral'\n",
        "*   Si ingresa un valor entre 65 y 99 años mostrar el mensaje 'Jubilado, los años liquidos de pensión son:' concatenado con el calculo de 99 años menos la edad ingresada.\n",
        "*   Mayor a 99 años mostrar el mensaje \"Sin fondo\""
      ],
      "metadata": {
        "id": "6JeftcmSLVwS"
      }
    },
    {
      "cell_type": "code",
      "source": [
        "# Resolución de ejercicio"
      ],
      "metadata": {
        "id": "F3zN4fFjMxIB"
      },
      "execution_count": null,
      "outputs": []
    },
    {
      "cell_type": "markdown",
      "source": [
        "## 2.4 Composiciones iterativas"
      ],
      "metadata": {
        "id": "a-nUtoZqNHku"
      }
    },
    {
      "cell_type": "markdown",
      "source": [
        "Composiciones iterativas con *for*"
      ],
      "metadata": {
        "id": "c-tqf6oNQ0u2"
      }
    },
    {
      "cell_type": "code",
      "source": [
        "# Se puede recorrer un rango númerico, para ello se utiliza la función range.\n",
        "# La estructura de la función range es range(inicio, fin, paso). Si no se especifica el paso, el valor se toma como 1\n",
        "# Si solo se especifica un valor range(n), recorre todos los valores desde 0 hasta n-1\n",
        "for i in range(1,5):\n",
        "  print(i)"
      ],
      "metadata": {
        "id": "CchFSlkjQ4FW"
      },
      "execution_count": null,
      "outputs": []
    },
    {
      "cell_type": "code",
      "source": [
        "for i in range(3):\n",
        "  print(i)"
      ],
      "metadata": {
        "id": "pcUHV9U-8OaB"
      },
      "execution_count": null,
      "outputs": []
    },
    {
      "cell_type": "code",
      "source": [
        "for i in range(1,10,2):\n",
        "  print(i**i)"
      ],
      "metadata": {
        "id": "yKN1SXBvRmzi"
      },
      "execution_count": null,
      "outputs": []
    },
    {
      "cell_type": "code",
      "source": [
        "# Se solicitará al usuario un valor inicial y un valor final. Se mostrará la suma de todo el recorrido.\n",
        "valor_inicial = int(input('Valor inicial: '))\n",
        "valor_final = int(input('Valor final: '))\n",
        "suma = 0\n",
        "for i in range(valor_inicial,valor_final+1):\n",
        "  suma = suma + i\n",
        "print(suma)"
      ],
      "metadata": {
        "id": "hU0QnVAPSD59"
      },
      "execution_count": null,
      "outputs": []
    },
    {
      "cell_type": "markdown",
      "source": [
        "Composiciones iterativas con *while*"
      ],
      "metadata": {
        "id": "wUpWv299RsRr"
      }
    },
    {
      "cell_type": "code",
      "source": [
        "i = 0 # Variable de recorrido con valor inicial\n",
        "while i < 10: # Condición\n",
        "  print('El valor es:', i) # Instrucciones\n",
        "  i = i + 1 # Incremental. También se podría utilizar i+=1"
      ],
      "metadata": {
        "id": "_CR0uTKuRrd1"
      },
      "execution_count": null,
      "outputs": []
    },
    {
      "cell_type": "code",
      "source": [
        "# Solicitar un valor al usuario un valor entero positivo, y sumar todos los cuadrados de los valores\n",
        "valor = int(input('Ingresar un valor entero positivo: '))\n",
        "i = 0\n",
        "suma_c = 0\n",
        "while i <= valor:\n",
        "  suma_c = suma_c + i**2\n",
        "  i +=1\n",
        "print(suma_c)"
      ],
      "metadata": {
        "id": "CvLItE0uTw05"
      },
      "execution_count": null,
      "outputs": []
    },
    {
      "cell_type": "markdown",
      "source": [
        "**Ejercicio**\n",
        "\n",
        "Crear un programa que le pida a un usuario un valor entero positivo, y retorne la suma de todas las raíces cuadradas. Si el valor ingresado es igual o menor a cero, que muestre el mensaje \"El valor ingresado debe ser un entero positivo\"."
      ],
      "metadata": {
        "id": "JlSsP-OpU1Ei"
      }
    },
    {
      "cell_type": "code",
      "source": [
        "# Resolución del ejercicio (con incremento)"
      ],
      "metadata": {
        "id": "cuxJHI_JVUm4"
      },
      "execution_count": null,
      "outputs": []
    },
    {
      "cell_type": "code",
      "source": [
        "# Resolución del ejercicio (con decremento)"
      ],
      "metadata": {
        "id": "gnpjcc3MsZeb"
      },
      "execution_count": null,
      "outputs": []
    },
    {
      "cell_type": "markdown",
      "source": [
        "## 2.5 Nuevas funciones"
      ],
      "metadata": {
        "id": "0UiRBkxaaZ-y"
      }
    },
    {
      "cell_type": "code",
      "source": [
        "# Se creará una función que sume a un entero los dos números consecutivos\n",
        "def suma_consecutiva(entero):\n",
        "  \"\"\"\n",
        "  Funcion que suma al entero los dos enteros consecutivos\n",
        "  \"\"\"\n",
        "  return entero + entero + 1 + entero + 2"
      ],
      "metadata": {
        "id": "gjiUk1kMag_s"
      },
      "execution_count": null,
      "outputs": []
    },
    {
      "cell_type": "code",
      "source": [
        "y = suma_consecutiva(5)"
      ],
      "metadata": {
        "id": "TCQEhiLLbm9O"
      },
      "execution_count": null,
      "outputs": []
    },
    {
      "cell_type": "code",
      "source": [
        "y"
      ],
      "metadata": {
        "id": "ovtZx63VuJuH"
      },
      "execution_count": null,
      "outputs": []
    },
    {
      "cell_type": "code",
      "source": [
        "help(suma_consecutiva)"
      ],
      "metadata": {
        "id": "-Ozm1a3IunJW"
      },
      "execution_count": null,
      "outputs": []
    },
    {
      "cell_type": "markdown",
      "source": [
        "**Ejercicio**\n",
        "\n",
        "Crear una función donde si el número es menor o igual que cero retorne el cuadrado de número, si no retorne la suma desde uno hasta el número ingresado."
      ],
      "metadata": {
        "id": "tJ-XwDufdRPm"
      }
    },
    {
      "cell_type": "code",
      "source": [
        "# Resolución de ejercicio"
      ],
      "metadata": {
        "id": "tGxpv7yrdrgW"
      },
      "execution_count": null,
      "outputs": []
    },
    {
      "cell_type": "markdown",
      "source": [
        "# 3. Estructuras Compuestas"
      ],
      "metadata": {
        "id": "YhRY_hE1fvjN"
      }
    },
    {
      "cell_type": "markdown",
      "source": [
        "## 3.1 Listas"
      ],
      "metadata": {
        "id": "9lqAlW20hhot"
      }
    },
    {
      "cell_type": "code",
      "source": [
        "# Definiendo una lista\n",
        "lista1 = [1,2,3]\n",
        "lista1"
      ],
      "metadata": {
        "id": "9O9wPkufhk91"
      },
      "execution_count": null,
      "outputs": []
    },
    {
      "cell_type": "code",
      "source": [
        " # Se pueden crear listas vacias con el comando nombre_lista = cantidad_elementos * [0]\n",
        " lista_vacia = 3* [0]\n",
        " lista_vacia"
      ],
      "metadata": {
        "id": "XOiRvAmS-pmH"
      },
      "execution_count": null,
      "outputs": []
    },
    {
      "cell_type": "code",
      "source": [
        "# Combinando tipos de datos en una lista\n",
        "lista2 = [2 , 'prueba', [1,2]]\n",
        "lista2"
      ],
      "metadata": {
        "id": "OdHscAhDhqVM"
      },
      "execution_count": null,
      "outputs": []
    },
    {
      "cell_type": "markdown",
      "source": [
        "Accedamos a los elementos de la lista"
      ],
      "metadata": {
        "id": "lsLxLHhnkLGM"
      }
    },
    {
      "cell_type": "code",
      "source": [
        "lista2"
      ],
      "metadata": {
        "id": "EGqA24GbzTSh"
      },
      "execution_count": null,
      "outputs": []
    },
    {
      "cell_type": "code",
      "source": [
        "lista2[0]"
      ],
      "metadata": {
        "id": "02qY31BSkCAQ"
      },
      "execution_count": null,
      "outputs": []
    },
    {
      "cell_type": "code",
      "source": [
        "lista2[2]"
      ],
      "metadata": {
        "id": "bI7czP7WkIp_"
      },
      "execution_count": null,
      "outputs": []
    },
    {
      "cell_type": "code",
      "source": [
        "lista2[3]"
      ],
      "metadata": {
        "id": "-PdPWIErkOrZ"
      },
      "execution_count": null,
      "outputs": []
    },
    {
      "cell_type": "code",
      "source": [
        "lista2[0:2] # Accede a todos los elementos de la lista desde el indice 0 hasta el indice 2-1"
      ],
      "metadata": {
        "id": "qpNPXDYGk8Yh"
      },
      "execution_count": null,
      "outputs": []
    },
    {
      "cell_type": "markdown",
      "source": [
        "Cambiemos elementos de una lista"
      ],
      "metadata": {
        "id": "DbmJzs8Hkztb"
      }
    },
    {
      "cell_type": "code",
      "source": [
        "lista2"
      ],
      "metadata": {
        "id": "Rtiw2Eq4kyJ1"
      },
      "execution_count": null,
      "outputs": []
    },
    {
      "cell_type": "code",
      "source": [
        "lista2[0] = [2,3] # Cambiamos el elemento con indice 0, que corresponde al primer elemento\n",
        "lista2"
      ],
      "metadata": {
        "id": "ufl75NYrk3nQ"
      },
      "execution_count": null,
      "outputs": []
    },
    {
      "cell_type": "code",
      "source": [
        "# Las listas se puede concatenar utilizando el signo más (+)\n",
        "lista3 = lista1 + lista2\n",
        "lista3"
      ],
      "metadata": {
        "id": "M405jBDD0fh5"
      },
      "execution_count": null,
      "outputs": []
    },
    {
      "cell_type": "markdown",
      "source": [
        "Longitud de una lista"
      ],
      "metadata": {
        "id": "Awyq40vy_0B5"
      }
    },
    {
      "cell_type": "code",
      "source": [
        "# La función len() nos ayuda a obtener la cantidad de elementos de una lista\n",
        "len(lista3)"
      ],
      "metadata": {
        "id": "tRMjH59q_zEA"
      },
      "execution_count": null,
      "outputs": []
    },
    {
      "cell_type": "markdown",
      "source": [
        "## 3.2 Metodos de listas"
      ],
      "metadata": {
        "id": "skuLThAnz_L4"
      }
    },
    {
      "cell_type": "code",
      "source": [
        "# Crearemos dos listas\n",
        "lista_1 = [3,25,9]\n",
        "lista_2 = [[2,3],8,'a']"
      ],
      "metadata": {
        "id": "8xE7AyI50Bcj"
      },
      "execution_count": null,
      "outputs": []
    },
    {
      "cell_type": "code",
      "source": [
        "# Agregando el elemento -5 en la lista 1\n",
        "lista_1.append(-5)\n",
        "lista_1"
      ],
      "metadata": {
        "id": "z5ln5CZk0b-7"
      },
      "execution_count": null,
      "outputs": []
    },
    {
      "cell_type": "code",
      "source": [
        "# Eliminando el primer elemento (indice 0)\n",
        "lista_1.pop(0)\n",
        "lista_1"
      ],
      "metadata": {
        "id": "ON6VEsSZ0zOj"
      },
      "execution_count": null,
      "outputs": []
    },
    {
      "cell_type": "code",
      "source": [
        "lista_2"
      ],
      "metadata": {
        "id": "_VeM5d1T1oQm"
      },
      "execution_count": null,
      "outputs": []
    },
    {
      "cell_type": "code",
      "source": [
        "# Eliminando el elemento 8 en la lista_2\n",
        "lista_2.remove(8)\n",
        "lista_2"
      ],
      "metadata": {
        "id": "hjSO9P5W1D0z"
      },
      "execution_count": null,
      "outputs": []
    },
    {
      "cell_type": "code",
      "source": [
        "lista_1"
      ],
      "metadata": {
        "id": "KvtPo08h1zEu"
      },
      "execution_count": null,
      "outputs": []
    },
    {
      "cell_type": "code",
      "source": [
        "# Ordenando elementos\n",
        "lista_1.sort() # lista_1.sort(reverse = False)\n",
        "lista_1"
      ],
      "metadata": {
        "id": "jqHDhLeK1pPo"
      },
      "execution_count": null,
      "outputs": []
    },
    {
      "cell_type": "code",
      "source": [
        "lista_1"
      ],
      "metadata": {
        "id": "wbw8nzjx2Hn2"
      },
      "execution_count": null,
      "outputs": []
    },
    {
      "cell_type": "code",
      "source": [
        "lista_2"
      ],
      "metadata": {
        "id": "aUo-YVBy2JM_"
      },
      "execution_count": null,
      "outputs": []
    },
    {
      "cell_type": "code",
      "source": [
        "# Añadimos elementos de lista_2 a lista_1\n",
        "lista_2.extend(lista_1)\n",
        "lista_2"
      ],
      "metadata": {
        "id": "kEoIpUHF1-8L"
      },
      "execution_count": null,
      "outputs": []
    },
    {
      "cell_type": "code",
      "source": [
        "type(lista_2)"
      ],
      "metadata": {
        "id": "LTok7wOi2jiP"
      },
      "execution_count": null,
      "outputs": []
    },
    {
      "cell_type": "markdown",
      "source": [
        "## 3.3 Trabajando con listas"
      ],
      "metadata": {
        "id": "JvVzBwlz2M9W"
      }
    },
    {
      "cell_type": "code",
      "source": [
        "# Accediendo a todos los elementos de una lista"
      ],
      "metadata": {
        "id": "b6x-kL909ffT"
      },
      "execution_count": null,
      "outputs": []
    },
    {
      "cell_type": "code",
      "source": [
        "lista_3 = [3, 4, 5]"
      ],
      "metadata": {
        "id": "UrFoVAEB3RxU"
      },
      "execution_count": null,
      "outputs": []
    },
    {
      "cell_type": "code",
      "source": [
        "for i in lista_3:\n",
        "  print(i)"
      ],
      "metadata": {
        "id": "4fOZZSvR3Ned"
      },
      "execution_count": null,
      "outputs": []
    },
    {
      "cell_type": "code",
      "source": [
        "for i in range(len(lista_3)):\n",
        "  print(lista_3[i])"
      ],
      "metadata": {
        "id": "tsrRtLQg9Hx3"
      },
      "execution_count": null,
      "outputs": []
    },
    {
      "cell_type": "code",
      "source": [
        "# Crear una función que eleve al cuadrado todos los elementos de una lista\n",
        "def lista_cuadrado(lista):\n",
        "  for i in lista:\n",
        "    print(i**2)"
      ],
      "metadata": {
        "id": "wUPlKHvL9j2u"
      },
      "execution_count": null,
      "outputs": []
    },
    {
      "cell_type": "code",
      "source": [
        "lista_cuadrado(lista_3)"
      ],
      "metadata": {
        "id": "mp63N6jk93oZ"
      },
      "execution_count": null,
      "outputs": []
    },
    {
      "cell_type": "code",
      "source": [
        "3 * [0]"
      ],
      "metadata": {
        "id": "Fvqkr2sK5B1H"
      },
      "execution_count": null,
      "outputs": []
    },
    {
      "cell_type": "code",
      "source": [
        "def lista_cuadrado_2(lista):\n",
        "  lista_final = len(lista)*[0]\n",
        "  for i in range(len(lista)):\n",
        "    lista_final[i] = lista[i]**2\n",
        "  return lista_final"
      ],
      "metadata": {
        "id": "FuJOwy444sX6"
      },
      "execution_count": null,
      "outputs": []
    },
    {
      "cell_type": "code",
      "source": [
        "# Crear una función que sumen dadas dos listas, las sume y devuelva la lista\n",
        "def lista_suma(lista1, lista2):\n",
        "  lista3 = len(lista1) * [0]\n",
        "  for i in range(len(lista1)):\n",
        "    lista3[i] = lista1[i] + lista2[i]\n",
        "  return lista3"
      ],
      "metadata": {
        "id": "m7eo-avx99lj"
      },
      "execution_count": null,
      "outputs": []
    },
    {
      "cell_type": "code",
      "source": [
        "lista1 = [4, 8, 9]\n",
        "lista2 = [0, 1, 2]\n",
        "lista_suma(lista1, lista2)"
      ],
      "metadata": {
        "id": "545mCKQX_IdM"
      },
      "execution_count": null,
      "outputs": []
    },
    {
      "cell_type": "markdown",
      "source": [
        "**Ejercicio**\n",
        "\n",
        "Cree una función que dadas dos listas, multiplique los valores de cada una de ellas. Si las listas tienen diferente longitud, debe indicar el mensaje \"listas de diferente tamaño\"\n"
      ],
      "metadata": {
        "id": "NBzAw5m6_jZT"
      }
    },
    {
      "cell_type": "code",
      "source": [],
      "metadata": {
        "id": "SVSqPKmO_iMj"
      },
      "execution_count": null,
      "outputs": []
    },
    {
      "cell_type": "markdown",
      "source": [
        "## 3.4 Pandas Series"
      ],
      "metadata": {
        "id": "IgT7cTUuYD8x"
      }
    },
    {
      "cell_type": "markdown",
      "source": [
        "Creación de Series. Importante importar el modulo *pandas.*"
      ],
      "metadata": {
        "id": "bXevNpgTZEbY"
      }
    },
    {
      "cell_type": "code",
      "source": [
        "import pandas as pd"
      ],
      "metadata": {
        "id": "uL6o7ofN-MnQ"
      },
      "execution_count": null,
      "outputs": []
    },
    {
      "cell_type": "code",
      "source": [
        "serie1 = pd.Series(['Matemáticas', 'Sociales', 'Lenguaje', 'Ciencias', 'Inglés']) #, dtype = str)"
      ],
      "metadata": {
        "id": "ehCPo8G8YIIf"
      },
      "execution_count": null,
      "outputs": []
    },
    {
      "cell_type": "code",
      "source": [
        "type(serie1) # Examinemos el tipo de dato creado"
      ],
      "metadata": {
        "id": "Q41P8heHYNmR"
      },
      "execution_count": null,
      "outputs": []
    },
    {
      "cell_type": "code",
      "source": [
        "type(serie1[0]) # Examinemos el tipo de dato de uno de sus elementos"
      ],
      "metadata": {
        "id": "cYLMb2q9ZVsQ"
      },
      "execution_count": null,
      "outputs": []
    },
    {
      "cell_type": "code",
      "source": [
        "serie2 = pd.Series(['8',9,'0'])\n",
        "type(serie2[2]) # Python asigna en automatico el tipo de dato"
      ],
      "metadata": {
        "id": "IvIrr6l6ZjPK"
      },
      "execution_count": null,
      "outputs": []
    },
    {
      "cell_type": "code",
      "source": [
        "serie2"
      ],
      "metadata": {
        "id": "kPpkAiBAZzf8"
      },
      "execution_count": null,
      "outputs": []
    },
    {
      "cell_type": "markdown",
      "source": [
        "## 3.5 Pandas Dataframe"
      ],
      "metadata": {
        "id": "16pyTdCZa9IC"
      }
    },
    {
      "cell_type": "markdown",
      "source": [
        "Creación de un Dataframe"
      ],
      "metadata": {
        "id": "a-RPFaT_9hSX"
      }
    },
    {
      "cell_type": "code",
      "source": [
        "# Opcion 1, con listas por registro, las listas representas: Nombre, Edad, Ciudad, Experiencia\n",
        "registro1 = ['Carlos', 32, 'Santa Tecla', 4]\n",
        "registro2 = ['Juan', 42, 'San Salvador', 7]\n",
        "registro3 = ['Pedro', 39, 'Zaragoza', 12]\n",
        "registro4 = ['Ricardo', 28, 'Antiguo Cuscatlan', 9]"
      ],
      "metadata": {
        "id": "ohfD0ejr9gar"
      },
      "execution_count": null,
      "outputs": []
    },
    {
      "cell_type": "code",
      "source": [
        "# Opción 1 de creación de un dataframe\n",
        "import pandas as pd\n",
        "dataframe1 = pd.DataFrame(data = [registro1, registro2, registro3, registro4], columns = ['Nombre', 'Edad', 'Ciudad', 'Experiencia'])\n",
        "\n",
        "# ¿Qué pasaría si no declaramos las columnas?"
      ],
      "metadata": {
        "id": "veTvfiN59gXQ"
      },
      "execution_count": null,
      "outputs": []
    },
    {
      "cell_type": "code",
      "source": [
        "dataframe2 = pd.DataFrame(data = [registro1, registro2, registro3, registro4])"
      ],
      "metadata": {
        "id": "gV0qKaKpAo8H"
      },
      "execution_count": null,
      "outputs": []
    },
    {
      "cell_type": "code",
      "source": [
        "dataframe1"
      ],
      "metadata": {
        "id": "9xeC7lxO9gUQ"
      },
      "execution_count": null,
      "outputs": []
    },
    {
      "cell_type": "code",
      "source": [
        "# Opcion 2, con listas por variable\n",
        "lista1 = ['Carlos', 'Juan', 'Pedro', 'Ricardo'] # Nombres\n",
        "lista2 = [35,42,39,28] # Edades\n",
        "lista3 = ['Santa Tecla', 'San Salvador', 'Zaragoza', 'Antiguo Cuscatlan'] # Ciudad\n",
        "lista4 = [4, 7, 12, 9] # Años Laborales"
      ],
      "metadata": {
        "id": "A-_9ni1l_lVN"
      },
      "execution_count": null,
      "outputs": []
    },
    {
      "cell_type": "code",
      "source": [
        "dataframe2 = pd.DataFrame({\n",
        "    'Nombre': lista1,\n",
        "    'Edad': lista2,\n",
        "    'Ciudad': lista3,\n",
        "    'Experiencia': lista4\n",
        "})"
      ],
      "metadata": {
        "id": "dbrdmc_GAVZL"
      },
      "execution_count": null,
      "outputs": []
    },
    {
      "cell_type": "code",
      "source": [
        "dataframe2"
      ],
      "metadata": {
        "id": "4cbqlqhAArZl"
      },
      "execution_count": null,
      "outputs": []
    },
    {
      "cell_type": "markdown",
      "source": [
        "## 3.6 Accediendo a datos en el dataframe\n",
        "Las filas y columnas en un dataframe inician con el índice cero, si no se ha hicieron cambios cuando se creo el dataframe"
      ],
      "metadata": {
        "id": "q_GzGsU5HXYA"
      }
    },
    {
      "cell_type": "code",
      "source": [
        "dataframe1"
      ],
      "metadata": {
        "id": "jNKp2wzZCBw2"
      },
      "execution_count": null,
      "outputs": []
    },
    {
      "cell_type": "code",
      "source": [
        "# Para seleccionar un elemento se especifica dataframe[indice_columna][indice_fila]\n",
        "dataframe1['Edad'] [1]"
      ],
      "metadata": {
        "id": "7fDi9_QTHaQS"
      },
      "execution_count": null,
      "outputs": []
    },
    {
      "cell_type": "code",
      "source": [
        "# Para acceder a una columna se tienen dos opciones:\n",
        "dataframe1['Nombre']\n",
        "dataframe1.Nombre"
      ],
      "metadata": {
        "id": "Jro_BTaFJLy4"
      },
      "execution_count": null,
      "outputs": []
    },
    {
      "cell_type": "code",
      "source": [
        "# Se puede acceder a múltiples filas, incluyendolas en una lista\n",
        "dataframe1[['Nombre', 'Ciudad']]"
      ],
      "metadata": {
        "id": "kHM-FJocJ2nV"
      },
      "execution_count": null,
      "outputs": []
    },
    {
      "cell_type": "code",
      "source": [
        "# Para seleccionar múltiples filas se ocupa la sintaxis\n",
        "# data_frame[indice_inicial:indice_final]\n",
        "dataframe1[0:2]"
      ],
      "metadata": {
        "id": "k6PhxC2xLAy7"
      },
      "execution_count": null,
      "outputs": []
    },
    {
      "cell_type": "markdown",
      "source": [
        "## 3.7 Metodos de dataframe"
      ],
      "metadata": {
        "id": "ASlRnCjdLsU_"
      }
    },
    {
      "cell_type": "code",
      "source": [
        "type(dataframe1)"
      ],
      "metadata": {
        "id": "T9Zs9-RYDI4S"
      },
      "execution_count": null,
      "outputs": []
    },
    {
      "cell_type": "markdown",
      "source": [
        "Metodo info"
      ],
      "metadata": {
        "id": "AHZa6a5EPOgG"
      }
    },
    {
      "cell_type": "code",
      "source": [
        "# Metodo .info\n",
        "dataframe1.info()"
      ],
      "metadata": {
        "id": "VFeZmnECL6kt"
      },
      "execution_count": null,
      "outputs": []
    },
    {
      "cell_type": "markdown",
      "source": [
        "Metodo head"
      ],
      "metadata": {
        "id": "K1DdzRjEPQaF"
      }
    },
    {
      "cell_type": "code",
      "source": [
        "# Metodo .head()\n",
        "dataframe1.head()"
      ],
      "metadata": {
        "id": "jA9qXbg1L-yn"
      },
      "execution_count": null,
      "outputs": []
    },
    {
      "cell_type": "markdown",
      "source": [
        "Metodo astype"
      ],
      "metadata": {
        "id": "4J19kmf-PSea"
      }
    },
    {
      "cell_type": "code",
      "source": [
        "# Cambiando el tipo de datos\n",
        "dataframe1.Edad.astype(str)\n",
        "dataframe1['Edad'].astype(str)"
      ],
      "metadata": {
        "id": "o5aBOY0tMWKj"
      },
      "execution_count": null,
      "outputs": []
    },
    {
      "cell_type": "markdown",
      "source": [
        "Metodo iloc"
      ],
      "metadata": {
        "id": "bRAQO04RPTkN"
      }
    },
    {
      "cell_type": "code",
      "source": [
        "# Accediendo a datos con .iloc con indice\n",
        "dataframe1.iloc[0, 1]"
      ],
      "metadata": {
        "id": "9edIQNVSNMXJ"
      },
      "execution_count": null,
      "outputs": []
    },
    {
      "cell_type": "code",
      "source": [
        "dataframe1"
      ],
      "metadata": {
        "id": "Eot8wx7eE6M7"
      },
      "execution_count": null,
      "outputs": []
    },
    {
      "cell_type": "code",
      "source": [
        "# Accediendo a datos con .iloc con rangos de indicendice\n",
        "dataframe1.iloc[0:2, 1:2]"
      ],
      "metadata": {
        "id": "RiUrMKIXNn03"
      },
      "execution_count": null,
      "outputs": []
    },
    {
      "cell_type": "code",
      "source": [
        "# Accediendo a datos con .iloc con la posicion el listado de indices\n",
        "dataframe1.iloc[[1,2], [1,3]]"
      ],
      "metadata": {
        "id": "ELqUUdlIOKHy"
      },
      "execution_count": null,
      "outputs": []
    },
    {
      "cell_type": "code",
      "source": [
        "# Revisemos las diferentes formas de utilizar el iloc\n",
        "# 1. [:, :]\n",
        "# 2. [:1, :]\n",
        "# 2. [:, :1]\n",
        "dataframe1.iloc[:2,:3]"
      ],
      "metadata": {
        "id": "dune6CE9Ob6W"
      },
      "execution_count": null,
      "outputs": []
    },
    {
      "cell_type": "markdown",
      "source": [
        "Metodo loc"
      ],
      "metadata": {
        "id": "rOHVlQEfPWEk"
      }
    },
    {
      "cell_type": "code",
      "source": [
        "dataframe1"
      ],
      "metadata": {
        "id": "2W52z8eWFlcn"
      },
      "execution_count": null,
      "outputs": []
    },
    {
      "cell_type": "code",
      "source": [
        "# Metodo de .loc\n",
        "dataframe1.loc[0,'Nombre'] # Que ocurre si colocamos 0,0?"
      ],
      "metadata": {
        "id": "jytpOg8DOVDx"
      },
      "execution_count": null,
      "outputs": []
    },
    {
      "cell_type": "code",
      "source": [
        "dataframe1.loc[:,:]"
      ],
      "metadata": {
        "id": "0DURoxDLPfL8"
      },
      "execution_count": null,
      "outputs": []
    },
    {
      "cell_type": "code",
      "source": [
        "dataframe1.loc[0:2,'Nombre':'Ciudad']"
      ],
      "metadata": {
        "id": "OBxl8wycPLRn"
      },
      "execution_count": null,
      "outputs": []
    },
    {
      "cell_type": "code",
      "source": [
        "# Tambien se pueden establecer condiciones\n",
        "dataframe1.loc[dataframe1.Edad > 35]"
      ],
      "metadata": {
        "id": "w0v_cxlUPwVe"
      },
      "execution_count": null,
      "outputs": []
    },
    {
      "cell_type": "code",
      "source": [
        "# Operadores booleanos en .loc (Y = &, O = |)\n",
        "# Ejercicio\n",
        "# 1. Mostrar todos los datos; Edad menor de 35 años y menos de 10 años de experiencia\n",
        "# 2. Mostrar solo los nombres; Edad menor de 35 años y menos de 10 años de experiencia\n",
        "# 3. Mostrar solo los nombres y Años de experiencia; Edad menor de 35 años, menos de 10 años de experiencia y de SS"
      ],
      "metadata": {
        "id": "onkkEaNPRg-D"
      },
      "execution_count": null,
      "outputs": []
    },
    {
      "cell_type": "code",
      "source": [
        "dataframe1.loc[(dataframe1.Edad < 35) & (dataframe1.Experiencia < 10)]"
      ],
      "metadata": {
        "id": "5DcF9LbUGbUA"
      },
      "execution_count": null,
      "outputs": []
    },
    {
      "cell_type": "code",
      "source": [
        "dataframe1.loc[(dataframe1.Edad < 35) & (dataframe1.Experiencia < 10), 'Nombre']"
      ],
      "metadata": {
        "id": "6LMY6BddHY9_"
      },
      "execution_count": null,
      "outputs": []
    },
    {
      "cell_type": "code",
      "source": [
        "dataframe1.loc[(dataframe1.Edad < 35) & (dataframe1.Experiencia < 10) & (dataframe1.Ciudad == 'San Salvador'), ['Nombre','Experiencia']]"
      ],
      "metadata": {
        "id": "rAN7w4TCHp47"
      },
      "execution_count": null,
      "outputs": []
    },
    {
      "cell_type": "markdown",
      "source": [
        "Metodo drop"
      ],
      "metadata": {
        "id": "0TCS_USQSNYP"
      }
    },
    {
      "cell_type": "code",
      "source": [
        "# Si no se ocupa el parametro inplace = True, los cambios no se guardan en el dataframe\n",
        "dataframe1.drop(columns = 'Edad', inplace = True)"
      ],
      "metadata": {
        "id": "ZvzwBzKfSPcX"
      },
      "execution_count": null,
      "outputs": []
    },
    {
      "cell_type": "code",
      "source": [
        "dataframe1"
      ],
      "metadata": {
        "id": "EEGmxC0XcPeA"
      },
      "execution_count": null,
      "outputs": []
    },
    {
      "cell_type": "markdown",
      "source": [
        "## 3.8 Creación de nuevas variables - Dataframe"
      ],
      "metadata": {
        "id": "eNpnciQRaIm9"
      }
    },
    {
      "cell_type": "markdown",
      "source": [
        "**Desde nueva lista**"
      ],
      "metadata": {
        "id": "vGLPimGQdU7X"
      }
    },
    {
      "cell_type": "code",
      "source": [
        "dataframe1"
      ],
      "metadata": {
        "id": "E65SqRG2InKY"
      },
      "execution_count": null,
      "outputs": []
    },
    {
      "cell_type": "code",
      "source": [
        "lista2 = [35,42,39,28] # Edades"
      ],
      "metadata": {
        "id": "JVesrDhwIxmI"
      },
      "execution_count": null,
      "outputs": []
    },
    {
      "cell_type": "code",
      "source": [
        "dataframe1['Edad'] = lista2"
      ],
      "metadata": {
        "id": "2OUAalOEaIES"
      },
      "execution_count": null,
      "outputs": []
    },
    {
      "cell_type": "code",
      "source": [
        "dataframe1"
      ],
      "metadata": {
        "id": "jugUL6QSI3-V"
      },
      "execution_count": null,
      "outputs": []
    },
    {
      "cell_type": "markdown",
      "source": [
        "**Operación sobre columnas**"
      ],
      "metadata": {
        "id": "jBooz9BMdZ4N"
      }
    },
    {
      "cell_type": "code",
      "source": [
        "dataframe1['Edad_cuadrado'] = dataframe1['Edad']**2"
      ],
      "metadata": {
        "id": "-0PsaB4CdCVs"
      },
      "execution_count": null,
      "outputs": []
    },
    {
      "cell_type": "code",
      "source": [
        "dataframe1"
      ],
      "metadata": {
        "id": "ICha6jy9JMl-"
      },
      "execution_count": null,
      "outputs": []
    },
    {
      "cell_type": "code",
      "source": [
        "dataframe1['No laborales'] = dataframe1['Edad']-dataframe1['Experiencia']"
      ],
      "metadata": {
        "id": "MotxJU3-ddrU"
      },
      "execution_count": null,
      "outputs": []
    },
    {
      "cell_type": "code",
      "source": [
        "dataframe1"
      ],
      "metadata": {
        "id": "D822FrSnJX6R"
      },
      "execution_count": null,
      "outputs": []
    },
    {
      "cell_type": "markdown",
      "source": [
        "**Funciones lambda**\n",
        "Las funciones lambda son funciones que denominamos funciones anónimas, ya que a nivel del programa pueden carecer de nombre.\n",
        "\n",
        "Las funciones lambda se definen como:\n",
        "lambda parametros : calculo_parametros"
      ],
      "metadata": {
        "id": "Gg8lQx_7duFG"
      }
    },
    {
      "cell_type": "code",
      "source": [
        "def suma(x,y):\n",
        "  return x+y"
      ],
      "metadata": {
        "id": "RtsZrP_pJwaJ"
      },
      "execution_count": null,
      "outputs": []
    },
    {
      "cell_type": "code",
      "source": [
        "# Funcion suma con lambda\n",
        "suma_dos = lambda x,y : x + y # Si se quieren utilizar en el codigo se pueden asignar a un nombre"
      ],
      "metadata": {
        "id": "xPPumhOvds-n"
      },
      "execution_count": null,
      "outputs": []
    },
    {
      "cell_type": "code",
      "source": [
        "suma_dos(3,2)"
      ],
      "metadata": {
        "id": "9yg9Pfvce31Y"
      },
      "execution_count": null,
      "outputs": []
    },
    {
      "cell_type": "markdown",
      "source": [
        "**Ejercicio**"
      ],
      "metadata": {
        "id": "s772iiEXPJfH"
      }
    },
    {
      "cell_type": "code",
      "source": [
        "# Ejercicio. Crear la función lambda que cuente la cantidad de palabras de una oración\n",
        "# Nota: Revise la documentacion del método str.split"
      ],
      "metadata": {
        "id": "QqG7aXEJe3rr"
      },
      "execution_count": null,
      "outputs": []
    },
    {
      "cell_type": "markdown",
      "source": [
        "**Operacion con metodos .assign y .apply**"
      ],
      "metadata": {
        "id": "7r9SgH0EfrSY"
      }
    },
    {
      "cell_type": "code",
      "source": [
        "dataframe1"
      ],
      "metadata": {
        "id": "qAnr8ImRgGEe"
      },
      "execution_count": null,
      "outputs": []
    },
    {
      "cell_type": "code",
      "source": [
        "# Con .assign - Crear la variable Edad al cuadrado\n",
        "dataframe1 = dataframe1.assign(Edad_cuadrado2 = lambda df : df['Edad']**2 )"
      ],
      "metadata": {
        "id": "oXsxOeH_fqrb"
      },
      "execution_count": null,
      "outputs": []
    },
    {
      "cell_type": "code",
      "source": [
        "dataframe1"
      ],
      "metadata": {
        "id": "z6GRDZKKl0yj"
      },
      "execution_count": null,
      "outputs": []
    },
    {
      "cell_type": "code",
      "source": [
        "# Con .apply - Crear la variable Edad al cuadrado\n",
        "# axis = 1 indica que se creará una nueva columna\n",
        "dataframe1['Edad_cuadrado3'] = dataframe1.apply(lambda df : df['Edad']**2, axis = 1)"
      ],
      "metadata": {
        "id": "VboA_Fnlfzy7"
      },
      "execution_count": null,
      "outputs": []
    },
    {
      "cell_type": "code",
      "source": [
        "dataframe1"
      ],
      "metadata": {
        "id": "ecALNl-pl13W"
      },
      "execution_count": null,
      "outputs": []
    },
    {
      "cell_type": "markdown",
      "source": [
        "**Ejercicio**\n",
        "1. Eliminar las columnas Edad_cuadrado2 y Edad_cuadrado3\n",
        "2. Agregar una columna que cuente la cantidad de palabras que tiene la columna Ciudad"
      ],
      "metadata": {
        "id": "a9lyqpYFhZaX"
      }
    },
    {
      "cell_type": "code",
      "source": [
        "# Resolucion de ejercicio\n",
        "dataframe1.drop(columns = ['Edad_cuadrado2', 'Edad_cuadrado3'], inplace = True)"
      ],
      "metadata": {
        "id": "dKXoeopJhUrQ"
      },
      "execution_count": null,
      "outputs": []
    },
    {
      "cell_type": "code",
      "source": [
        "dataframe1"
      ],
      "metadata": {
        "id": "8QjVIx0-iDgJ"
      },
      "execution_count": null,
      "outputs": []
    },
    {
      "cell_type": "code",
      "source": [
        "dataframe1['Conteo'] = dataframe1.apply( lambda df: len(df['Ciudad'].split(' ')), axis = 1)"
      ],
      "metadata": {
        "id": "bJ7gCUpjiEqP"
      },
      "execution_count": null,
      "outputs": []
    },
    {
      "cell_type": "code",
      "source": [
        "dataframe1"
      ],
      "metadata": {
        "id": "YAqPXOiTjj9H"
      },
      "execution_count": null,
      "outputs": []
    }
  ]
}